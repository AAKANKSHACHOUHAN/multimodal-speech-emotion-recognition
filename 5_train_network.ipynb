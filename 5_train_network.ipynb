{
 "cells": [
  {
   "cell_type": "code",
   "execution_count": 1,
   "metadata": {},
   "outputs": [],
   "source": [
    "import pandas as pd\n",
    "import numpy as np\n",
    "import xgboost as xgb\n",
    "import pickle\n",
    "import matplotlib\n",
    "import matplotlib.pyplot as plt\n",
    "from sklearn.linear_model import LogisticRegression\n",
    "from sklearn.svm import SVC\n",
    "from sklearn.multiclass import OneVsRestClassifier\n",
    "from sklearn.ensemble import RandomForestClassifier\n",
    "from sklearn.model_selection import train_test_split\n",
    "from sklearn.neural_network import MLPClassifier\n",
    "from sklearn.decomposition import PCA\n",
    "from sklearn.manifold import TSNE\n",
    "from sklearn.metrics import confusion_matrix, f1_score, accuracy_score, precision_score, recall_score\n",
    "from sklearn.preprocessing import MinMaxScaler, OneHotEncoder\n",
    "from sklearn.feature_selection import SelectFromModel\n",
    "from sklearn.utils.class_weight import compute_class_weight\n",
    "import itertools\n",
    "from IPython.display import display\n",
    "\n",
    "%matplotlib inline"
   ]
  },
  {
   "cell_type": "code",
   "execution_count": 2,
   "metadata": {},
   "outputs": [
    {
     "name": "stdout",
     "output_type": "stream",
     "text": [
      "(7837, 10)\n"
     ]
    }
   ],
   "source": [
    "x_train = pd.read_csv('data/s2e/audio_train.csv')\n",
    "x_test = pd.read_csv('data/s2e/audio_test.csv')\n",
    "\n",
    "print(x_train.shape)\n",
    "y_train = x_train['label']\n",
    "y_test = x_test['label']"
   ]
  },
  {
   "cell_type": "code",
   "execution_count": 3,
   "metadata": {},
   "outputs": [
    {
     "name": "stdout",
     "output_type": "stream",
     "text": [
      "(7837, 10) (1960, 10)\n",
      "{0: 879, 1: 1325, 2: 2334, 3: 1010, 4: 937, 5: 1352}\n"
     ]
    }
   ],
   "source": [
    "print(x_train.shape, x_test.shape)\n",
    "cl_weight = dict(pd.Series(x_train['label']).value_counts(normalize=True))\n",
    "print(dict(pd.Series(x_train['label']).value_counts()))\n",
    "\n",
    "del x_train['label']\n",
    "del x_test['label']\n",
    "del x_train['wav_file']\n",
    "del x_test['wav_file']"
   ]
  },
  {
   "cell_type": "code",
   "execution_count": 4,
   "metadata": {},
   "outputs": [],
   "source": [
    "emotion_dict = {'ang': 0,\n",
    "                'hap': 1,\n",
    "                'sad': 2,\n",
    "                'fea': 3,\n",
    "                'sur': 4,\n",
    "                'neu': 5}\n",
    "\n",
    "def plot_confusion_matrix(cm, classes,\n",
    "                          normalize=False,\n",
    "                          title='Confusion matrix',\n",
    "                          cmap=plt.cm.Blues):\n",
    "    \"\"\"\n",
    "    This function prints and plots the confusion matrix.\n",
    "    Normalization can be applied by setting `normalize=True`.\n",
    "    \"\"\"\n",
    "    # plt.figure(figsize=(8,8))\n",
    "    plt.imshow(cm, interpolation='nearest', cmap=cmap)\n",
    "    plt.title(title)\n",
    "    plt.colorbar()\n",
    "    tick_marks = np.arange(len(classes))\n",
    "    plt.xticks(tick_marks, classes, rotation=45)\n",
    "    plt.yticks(tick_marks, classes)\n",
    "\n",
    "    if normalize:\n",
    "        cm = cm.astype('float') / cm.sum(axis=1)[:, np.newaxis]\n",
    "        print(\"Normalized confusion matrix\")\n",
    "    else:\n",
    "        print('Confusion matrix, without normalization')\n",
    "\n",
    "    print(cm)\n",
    "\n",
    "    thresh = cm.max() / 2.\n",
    "    for i, j in itertools.product(range(cm.shape[0]), range(cm.shape[1])):\n",
    "        plt.text(j, i, cm[i, j],\n",
    "                 horizontalalignment=\"center\",\n",
    "                 color=\"white\" if cm[i, j] > thresh else \"black\")\n",
    "\n",
    "    plt.tight_layout()\n",
    "    plt.ylabel('True label')\n",
    "    plt.xlabel('Predicted label')\n",
    "    \n",
    "def one_hot_encoder(true_labels, num_records, num_classes):\n",
    "    temp = np.array(true_labels[:num_records])\n",
    "    true_labels = np.zeros((num_records, num_classes))\n",
    "    true_labels[np.arange(num_records), temp] = 1\n",
    "    return true_labels\n",
    "\n",
    "def display_results(y_test, pred_probs, cm=True):\n",
    "    pred = np.argmax(pred_probs, axis=-1)\n",
    "    one_hot_true = one_hot_encoder(y_test, len(pred), len(emotion_dict))\n",
    "    print('Test Set Accuracy =  {0:.3f}'.format(accuracy_score(y_test, pred)))\n",
    "    print('Test Set F-score =  {0:.3f}'.format(f1_score(y_test, pred, average='macro')))\n",
    "    print('Test Set Precision =  {0:.3f}'.format(precision_score(y_test, pred, average='macro')))\n",
    "    print('Test Set Recall =  {0:.3f}'.format(recall_score(y_test, pred, average='macro')))\n",
    "    if cm:\n",
    "        plot_confusion_matrix(confusion_matrix(y_test, pred), classes=emotion_dict.keys())"
   ]
  },
  {
   "cell_type": "code",
   "execution_count": 5,
   "metadata": {},
   "outputs": [
    {
     "name": "stdout",
     "output_type": "stream",
     "text": [
      "Test Set Accuracy =  0.568\n",
      "Test Set F-score =  0.569\n",
      "Test Set Precision =  0.583\n",
      "Test Set Recall =  0.578\n",
      "Confusion matrix, without normalization\n",
      "[[ 79  36  88   1   6  14]\n",
      " [ 43  50 161   1   6  50]\n",
      " [ 25  67 430   4   9  64]\n",
      " [  0   0   0 230   0   0]\n",
      " [  0   0   0   0 240   0]\n",
      " [ 13  37 210   1  10  85]]\n"
     ]
    },
    {
     "data": {
      "image/png": "[encoded data removed]",
      "text/plain": [
       "<Figure size 432x288 with 2 Axes>"
      ]
     },
     "metadata": {
      "needs_background": "light"
     },
     "output_type": "display_data"
    }
   ],
   "source": [
    "rf_classifier = RandomForestClassifier(n_estimators=1200, min_samples_split=25)\n",
    "rf_classifier.fit(x_train, y_train)\n",
    "\n",
    "# Predict\n",
    "pred_probs = rf_classifier.predict_proba(x_test)\n",
    "\n",
    "# Results\n",
    "display_results(y_test, pred_probs)\n",
    "\n",
    "with open('pred_probas/rf_classifier.pkl', 'wb') as f:\n",
    "    pickle.dump(pred_probs, f)"
   ]
  },
  {
   "cell_type": "code",
   "execution_count": 6,
   "metadata": {},
   "outputs": [
    {
     "name": "stdout",
     "output_type": "stream",
     "text": [
      "Test Set Accuracy =  0.576\n",
      "Test Set F-score =  0.583\n",
      "Test Set Precision =  0.593\n",
      "Test Set Recall =  0.587\n",
      "Confusion matrix, without normalization\n",
      "[[ 73  49  77   1   1  23]\n",
      " [ 37  64 146   1   4  59]\n",
      " [ 41  60 416   2   7  73]\n",
      " [  0   0   0 230   0   0]\n",
      " [  0   0   0   0 240   0]\n",
      " [ 13  41 190   1   6 105]]\n"
     ]
    },
    {
     "data": {
      "image/png": "[encoded data removed]",
      "text/plain": [
       "<Figure size 432x288 with 2 Axes>"
      ]
     },
     "metadata": {
      "needs_background": "light"
     },
     "output_type": "display_data"
    }
   ],
   "source": [
    "xgb_classifier = xgb.XGBClassifier(max_depth=7, learning_rate=0.008, objective='multi:softprob', \n",
    "                                   n_estimators=1200, sub_sample=0.8, num_class=len(emotion_dict),\n",
    "                                   booster='gbtree', n_jobs=4)\n",
    "xgb_classifier.fit(x_train, y_train)\n",
    "\n",
    "# Predict\n",
    "pred_probs = xgb_classifier.predict_proba(x_test)\n",
    "\n",
    "# Results\n",
    "display_results(y_test, pred_probs)\n",
    "\n",
    "with open('pred_probas/xgb_classifier.pkl', 'wb') as f:\n",
    "    pickle.dump(pred_probs, f)"
   ]
  },
  {
   "cell_type": "code",
   "execution_count": null,
   "metadata": {},
   "outputs": [],
   "source": [
    "mlp_classifier = MLPClassifier(hidden_layer_sizes=(650, ), activation='relu', solver='adam', alpha=0.0001,\n",
    "                               batch_size='auto', learning_rate='adaptive', learning_rate_init=0.01,\n",
    "                               power_t=0.5, max_iter=1000, shuffle=True, random_state=None, tol=0.0001,\n",
    "                               verbose=False, warm_start=True, momentum=0.8, nesterovs_momentum=True,\n",
    "                               early_stopping=False, validation_fraction=0.1, beta_1=0.9, beta_2=0.999,\n",
    "                               epsilon=1e-08)\n",
    "\n",
    "mlp_classifier.fit(x_train, y_train)\n",
    "\n",
    "# Predict\n",
    "pred_probs = mlp_classifier.predict_proba(x_test)\n",
    "\n",
    "# Results\n",
    "display_results(y_test, pred_probs)\n",
    "\n",
    "with open('pred_probas/mlp_classifier.pkl', 'wb') as f:\n",
    "    pickle.dump(pred_probs, f)"
   ]
  },
  {
   "cell_type": "code",
   "execution_count": null,
   "metadata": {},
   "outputs": [],
   "source": [
    "# Discard SVM and KNN as they don't perform well\n",
    "# svm_classifier = SVC(C=5000.0, probability=True, kernel='rbf', gamma='scale')\n",
    "# svm_classifier.fit(x_train, y_train)\n",
    "\n",
    "# # Predict\n",
    "# pred_probs = svm_classifier.predict_proba(x_test)\n",
    "\n",
    "# # Results\n",
    "# display_results(y_test, pred_probs)\n",
    "\n",
    "# with open('pred_probas/svm_classifier.pkl', 'wb') as f:\n",
    "#     pickle.dump(pred_probs, f)"
   ]
  },
  {
   "cell_type": "code",
   "execution_count": null,
   "metadata": {
    "scrolled": true
   },
   "outputs": [],
   "source": [
    "ax = xgb.plot_importance(xgb_classifier, max_num_features=10, height=0.5, show_values=False)\n",
    "fig = ax.figure\n",
    "fig.set_size_inches(8, 8)"
   ]
  },
  {
   "cell_type": "code",
   "execution_count": null,
   "metadata": {},
   "outputs": [],
   "source": [
    "contribution_scores = xgb_classifier.feature_importances_\n",
    "contribution_scores"
   ]
  },
  {
   "cell_type": "code",
   "execution_count": null,
   "metadata": {},
   "outputs": [],
   "source": [
    "top_n = [3, 5, 6, 7, 8]  # number of features\n",
    "for n in top_n:\n",
    "    threshold = np.argsort(contribution_scores)[::-1][:n][-1]\n",
    "    print('Stats for top {} features:'.format(n))\n",
    "    # Select features using threshold\n",
    "    selection = SelectFromModel(xgb_classifier, threshold=contribution_scores[threshold], prefit=True)\n",
    "    select_x_train = selection.transform(x_train)\n",
    "    select_x_test = selection.transform(x_test)\n",
    "    \n",
    "    # Train\n",
    "    select_xgb_classifier = xgb.XGBClassifier(max_depth=7, learning_rate=0.008, objective='multi:softprob', \n",
    "                                              n_estimators=1200, sub_sample = 0.8, num_class = len(emotion_dict),\n",
    "                                              booster='gbtree', n_jobs=4)\n",
    "    select_xgb_classifier.fit(select_x_train, y_train)\n",
    "\n",
    "    # Predict\n",
    "    pred_probs = select_xgb_classifier.predict_proba(select_x_test)\n",
    "\n",
    "    # Results\n",
    "    display_results(y_test, pred_probs, cm = False)"
   ]
  },
  {
   "cell_type": "code",
   "execution_count": 7,
   "metadata": {},
   "outputs": [
    {
     "name": "stdout",
     "output_type": "stream",
     "text": [
      "55000\n"
     ]
    },
    {
     "name": "stderr",
     "output_type": "stream",
     "text": [
      "/home/gsahu/dev/lib/python3.5/site-packages/sklearn/metrics/classification.py:1143: UndefinedMetricWarning: F-score is ill-defined and being set to 0.0 in labels with no predicted samples.\n",
      "  'precision', 'predicted', average, warn_for)\n",
      "/home/gsahu/dev/lib/python3.5/site-packages/sklearn/metrics/classification.py:1143: UndefinedMetricWarning: Precision is ill-defined and being set to 0.0 in labels with no predicted samples.\n",
      "  'precision', 'predicted', average, warn_for)\n"
     ]
    },
    {
     "ename": "NameError",
     "evalue": "name 'best_acc' is not defined",
     "output_type": "error",
     "traceback": [
      "\u001b[0;31m---------------------------------------------------------------------------\u001b[0m",
      "\u001b[0;31mNameError\u001b[0m                                 Traceback (most recent call last)",
      "\u001b[0;32m<ipython-input-7-cd7875398eb1>\u001b[0m in \u001b[0;36m<module>\u001b[0;34m\u001b[0m\n\u001b[1;32m     68\u001b[0m \u001b[0;34m\u001b[0m\u001b[0m\n\u001b[1;32m     69\u001b[0m         \u001b[0;31m# Save\u001b[0m\u001b[0;34m\u001b[0m\u001b[0;34m\u001b[0m\u001b[0m\n\u001b[0;32m---> 70\u001b[0;31m         \u001b[0;32mif\u001b[0m \u001b[0mperformance\u001b[0m\u001b[0;34m[\u001b[0m\u001b[0;34m'acc'\u001b[0m\u001b[0;34m]\u001b[0m \u001b[0;34m>\u001b[0m \u001b[0mbest_acc\u001b[0m\u001b[0;34m:\u001b[0m\u001b[0;34m\u001b[0m\u001b[0m\n\u001b[0m\u001b[1;32m     71\u001b[0m             \u001b[0mbest_perf\u001b[0m \u001b[0;34m=\u001b[0m \u001b[0mperformance\u001b[0m\u001b[0;34m\u001b[0m\u001b[0m\n\u001b[1;32m     72\u001b[0m             \u001b[0;32mwith\u001b[0m \u001b[0mopen\u001b[0m\u001b[0;34m(\u001b[0m\u001b[0;34m'pred_probas/lstm_classifier.pkl'\u001b[0m\u001b[0;34m,\u001b[0m \u001b[0;34m'wb'\u001b[0m\u001b[0;34m)\u001b[0m \u001b[0;32mas\u001b[0m \u001b[0mf\u001b[0m\u001b[0;34m:\u001b[0m\u001b[0;34m\u001b[0m\u001b[0m\n",
      "\u001b[0;31mNameError\u001b[0m: name 'best_acc' is not defined"
     ]
    }
   ],
   "source": [
    "import torch\n",
    "import pickle\n",
    "import numpy as np\n",
    "import torch.nn as nn\n",
    "from torch import optim\n",
    "import torch.nn.functional as F\n",
    "\n",
    "from lstm_classifier.s2e.lstm_classifier import LSTMClassifier\n",
    "from lstm_classifier.s2e import utils\n",
    "from lstm_classifier.s2e.config import model_config as config\n",
    "\n",
    "emotion_dict = {'ang': 0, 'hap': 1, 'sad': 2, 'fea': 3, 'sur': 4, 'neu': 5}\n",
    "\n",
    "device = 'cuda:{}'.format(config['gpu']) if \\\n",
    "         torch.cuda.is_available() else 'cpu'\n",
    "\n",
    "model = LSTMClassifier(config)\n",
    "model = model.to(device)\n",
    "criterion = nn.CrossEntropyLoss()\n",
    "optimizer = optim.Adam(model.parameters(), lr=config['learning_rate'])\n",
    "\n",
    "train_batches = [[torch.FloatTensor(np.array(x_train)), torch.LongTensor(np.array(y_train))]]\n",
    "test_pairs = [torch.FloatTensor(np.array(x_test)), torch.LongTensor(np.array(y_test))]\n",
    "\n",
    "best_perf = 0\n",
    "\n",
    "print(config['n_epochs'])\n",
    "for epoch in range(config['n_epochs']):\n",
    "    losses = []\n",
    "    for batch in train_batches:\n",
    "        inputs = batch[0].unsqueeze(0)  # frame in format as expected by model\n",
    "        targets = batch[1]\n",
    "        inputs = inputs.to(device)\n",
    "        targets = targets.to(device)\n",
    "\n",
    "        model.zero_grad()\n",
    "        optimizer.zero_grad()\n",
    "\n",
    "        predictions = model(inputs)\n",
    "        predictions = predictions.to(device)\n",
    "\n",
    "        loss = criterion(predictions, targets)\n",
    "        loss.backward()\n",
    "        optimizer.step()\n",
    "\n",
    "        losses.append(loss.item())\n",
    "\n",
    "    # evaluate\n",
    "    with torch.no_grad():\n",
    "        inputs = test_pairs[0].unsqueeze(0)\n",
    "        targets = test_pairs[1]\n",
    "\n",
    "        inputs = inputs.to(device)\n",
    "        preds = model(inputs)\n",
    "#         predictions = torch.argmax(model(inputs), dim=1)  # take argmax to get class id\n",
    "#         predictions = predictions.to(device)\n",
    "#         predictions = np.array(predictions.cpu())\n",
    "\n",
    "        # evaluate on cpu\n",
    "        targets = np.array(targets.cpu())\n",
    "        preds = np.array(preds.cpu().numpy())\n",
    "        predictions = np.argmax(preds, axis=-1)\n",
    "\n",
    "        # Get results\n",
    "        # plot_confusion_matrix(targets, predictions,\n",
    "        #                       classes=emotion_dict.keys())\n",
    "        performance = utils.evaluate(targets, predictions)\n",
    "        \n",
    "        # Save\n",
    "        if performance['acc'] > best_acc:\n",
    "            best_perf = performance\n",
    "            with open('pred_probas/lstm_classifier.pkl', 'wb') as f:\n",
    "                pickle.dump(preds, f)\n",
    "print(best_perf)"
   ]
  },
  {
   "cell_type": "code",
   "execution_count": null,
   "metadata": {},
   "outputs": [],
   "source": [
    "# Load predicted probabilities\n",
    "with open('pred_probas/xgb_classifier.pkl', 'rb') as f:\n",
    "    xgb_pred_probs = pickle.load(f)\n",
    "    \n",
    "with open('pred_probas/svm_classifier.pkl', 'rb') as f:\n",
    "    svm_pred_probs = pickle.load(f)\n",
    "    \n",
    "with open('pred_probas/rf_classifier.pkl', 'rb') as f:\n",
    "    rf_pred_probs = pickle.load(f)\n",
    "    \n",
    "with open('pred_probas/mlp_classifier.pkl', 'rb') as f:\n",
    "    mlp_pred_probs = pickle.load(f)\n",
    "    \n",
    "with open('pred_probas/lstm_classifier.pkl', 'rb') as f:\n",
    "    lstm_pred_probs = pickle.load(f)\n",
    "    \n",
    "print(lstm_pred_probs[0])\n",
    "\n",
    "n_samples = np.min([len(xgb_pred_probs), len(svm_pred_probs), len(rf_pred_probs), len(mlp_pred_probs), len(lstm_pred_probs)])\n",
    "\n",
    "# Average of the predicted probabilites\n",
    "ensemble_pred_probs = (lstm_pred_probs[:n_samples])/1.0\n",
    "# ensemble_pred_probs = (xgb_pred_probs[:n_samples] + mlp_pred_probs[:n_samples] + rf_pred_probs[:n_samples])/3.0\n",
    "\n",
    "\n",
    "# Show metrics\n",
    "display_results(y_test[:n_samples], ensemble_pred_probs)"
   ]
  }
 ],
 "metadata": {
  "kernelspec": {
   "display_name": "Python 3",
   "language": "python",
   "name": "python3"
  },
  "language_info": {
   "codemirror_mode": {
    "name": "ipython",
    "version": 3
   },
   "file_extension": ".py",
   "mimetype": "text/x-python",
   "name": "python",
   "nbconvert_exporter": "python",
   "pygments_lexer": "ipython3",
   "version": "3.5.2"
  }
 },
 "nbformat": 4,
 "nbformat_minor": 2
}
