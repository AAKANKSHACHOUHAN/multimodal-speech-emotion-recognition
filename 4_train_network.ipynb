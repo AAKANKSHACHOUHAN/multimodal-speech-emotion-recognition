{
 "cells": [
  {
   "cell_type": "code",
   "execution_count": 1,
   "metadata": {},
   "outputs": [],
   "source": [
    "import pandas as pd\n",
    "import numpy as np\n",
    "import xgboost as xgb\n",
    "import pickle\n",
    "import matplotlib\n",
    "import matplotlib.pyplot as plt\n",
    "from sklearn.linear_model import LogisticRegression\n",
    "from sklearn.svm import SVC\n",
    "from sklearn.multiclass import OneVsRestClassifier\n",
    "from sklearn.ensemble import RandomForestClassifier\n",
    "from sklearn.model_selection import train_test_split\n",
    "from sklearn.neural_network import MLPClassifier\n",
    "from sklearn.decomposition import PCA\n",
    "from sklearn.manifold import TSNE\n",
    "from sklearn.metrics import confusion_matrix, f1_score, accuracy_score, precision_score, recall_score\n",
    "from sklearn.preprocessing import MinMaxScaler, OneHotEncoder\n",
    "from sklearn.feature_selection import SelectFromModel\n",
    "from sklearn.utils.class_weight import compute_class_weight\n",
    "import itertools\n",
    "from IPython.display import display\n",
    "\n",
    "%matplotlib inline"
   ]
  },
  {
   "cell_type": "code",
   "execution_count": 2,
   "metadata": {},
   "outputs": [
    {
     "name": "stdout",
     "output_type": "stream",
     "text": [
      "(7527, 10)\n"
     ]
    },
    {
     "data": {
      "text/html": [
       "<div>\n",
       "<style scoped>\n",
       "    .dataframe tbody tr th:only-of-type {\n",
       "        vertical-align: middle;\n",
       "    }\n",
       "\n",
       "    .dataframe tbody tr th {\n",
       "        vertical-align: top;\n",
       "    }\n",
       "\n",
       "    .dataframe thead th {\n",
       "        text-align: right;\n",
       "    }\n",
       "</style>\n",
       "<table border=\"1\" class=\"dataframe\">\n",
       "  <thead>\n",
       "    <tr style=\"text-align: right;\">\n",
       "      <th></th>\n",
       "      <th>wav_file</th>\n",
       "      <th>label</th>\n",
       "      <th>sig_mean</th>\n",
       "      <th>sig_std</th>\n",
       "      <th>rmse_mean</th>\n",
       "      <th>rmse_std</th>\n",
       "      <th>silence</th>\n",
       "      <th>harmonic</th>\n",
       "      <th>auto_corr_max</th>\n",
       "      <th>auto_corr_std</th>\n",
       "    </tr>\n",
       "  </thead>\n",
       "  <tbody>\n",
       "    <tr>\n",
       "      <th>0</th>\n",
       "      <td>Ses01F_script02_2_F000</td>\n",
       "      <td>7</td>\n",
       "      <td>0.003671</td>\n",
       "      <td>0.005739</td>\n",
       "      <td>0.004434</td>\n",
       "      <td>0.003640</td>\n",
       "      <td>0.018692</td>\n",
       "      <td>-0.008143</td>\n",
       "      <td>0.023179</td>\n",
       "      <td>0.133057</td>\n",
       "    </tr>\n",
       "    <tr>\n",
       "      <th>1</th>\n",
       "      <td>Ses01F_script02_2_F001</td>\n",
       "      <td>7</td>\n",
       "      <td>0.006365</td>\n",
       "      <td>0.011155</td>\n",
       "      <td>0.007913</td>\n",
       "      <td>0.007850</td>\n",
       "      <td>0.444444</td>\n",
       "      <td>-0.017120</td>\n",
       "      <td>0.094578</td>\n",
       "      <td>0.213759</td>\n",
       "    </tr>\n",
       "    <tr>\n",
       "      <th>6</th>\n",
       "      <td>Ses01F_script02_2_F006</td>\n",
       "      <td>0</td>\n",
       "      <td>0.039659</td>\n",
       "      <td>0.067939</td>\n",
       "      <td>0.049930</td>\n",
       "      <td>0.046050</td>\n",
       "      <td>0.345018</td>\n",
       "      <td>-0.004605</td>\n",
       "      <td>3.441704</td>\n",
       "      <td>9.317455</td>\n",
       "    </tr>\n",
       "    <tr>\n",
       "      <th>7</th>\n",
       "      <td>Ses01F_script02_2_F007</td>\n",
       "      <td>4</td>\n",
       "      <td>0.014478</td>\n",
       "      <td>0.026941</td>\n",
       "      <td>0.018384</td>\n",
       "      <td>0.019687</td>\n",
       "      <td>0.422764</td>\n",
       "      <td>-0.011850</td>\n",
       "      <td>0.568261</td>\n",
       "      <td>1.928247</td>\n",
       "    </tr>\n",
       "    <tr>\n",
       "      <th>8</th>\n",
       "      <td>Ses01F_script02_2_F008</td>\n",
       "      <td>0</td>\n",
       "      <td>0.025271</td>\n",
       "      <td>0.054958</td>\n",
       "      <td>0.031571</td>\n",
       "      <td>0.044958</td>\n",
       "      <td>0.470019</td>\n",
       "      <td>-0.005120</td>\n",
       "      <td>2.529399</td>\n",
       "      <td>9.210082</td>\n",
       "    </tr>\n",
       "  </tbody>\n",
       "</table>\n",
       "</div>"
      ],
      "text/plain": [
       "                 wav_file  label  sig_mean   sig_std  rmse_mean  rmse_std  \\\n",
       "0  Ses01F_script02_2_F000      7  0.003671  0.005739   0.004434  0.003640   \n",
       "1  Ses01F_script02_2_F001      7  0.006365  0.011155   0.007913  0.007850   \n",
       "6  Ses01F_script02_2_F006      0  0.039659  0.067939   0.049930  0.046050   \n",
       "7  Ses01F_script02_2_F007      4  0.014478  0.026941   0.018384  0.019687   \n",
       "8  Ses01F_script02_2_F008      0  0.025271  0.054958   0.031571  0.044958   \n",
       "\n",
       "    silence  harmonic  auto_corr_max  auto_corr_std  \n",
       "0  0.018692 -0.008143       0.023179       0.133057  \n",
       "1  0.444444 -0.017120       0.094578       0.213759  \n",
       "6  0.345018 -0.004605       3.441704       9.317455  \n",
       "7  0.422764 -0.011850       0.568261       1.928247  \n",
       "8  0.470019 -0.005120       2.529399       9.210082  "
      ]
     },
     "metadata": {},
     "output_type": "display_data"
    },
    {
     "data": {
      "text/html": [
       "<div>\n",
       "<style scoped>\n",
       "    .dataframe tbody tr th:only-of-type {\n",
       "        vertical-align: middle;\n",
       "    }\n",
       "\n",
       "    .dataframe tbody tr th {\n",
       "        vertical-align: top;\n",
       "    }\n",
       "\n",
       "    .dataframe thead th {\n",
       "        text-align: right;\n",
       "    }\n",
       "</style>\n",
       "<table border=\"1\" class=\"dataframe\">\n",
       "  <thead>\n",
       "    <tr style=\"text-align: right;\">\n",
       "      <th></th>\n",
       "      <th>wav_file</th>\n",
       "      <th>label</th>\n",
       "      <th>sig_mean</th>\n",
       "      <th>sig_std</th>\n",
       "      <th>rmse_mean</th>\n",
       "      <th>rmse_std</th>\n",
       "      <th>silence</th>\n",
       "      <th>harmonic</th>\n",
       "      <th>auto_corr_max</th>\n",
       "      <th>auto_corr_std</th>\n",
       "    </tr>\n",
       "  </thead>\n",
       "  <tbody>\n",
       "    <tr>\n",
       "      <th>0</th>\n",
       "      <td>Ses01F_script02_2_F000</td>\n",
       "      <td>5</td>\n",
       "      <td>0.003671</td>\n",
       "      <td>0.005739</td>\n",
       "      <td>0.004434</td>\n",
       "      <td>0.003640</td>\n",
       "      <td>0.018692</td>\n",
       "      <td>-0.008143</td>\n",
       "      <td>0.023179</td>\n",
       "      <td>0.133057</td>\n",
       "    </tr>\n",
       "    <tr>\n",
       "      <th>1</th>\n",
       "      <td>Ses01F_script02_2_F001</td>\n",
       "      <td>5</td>\n",
       "      <td>0.006365</td>\n",
       "      <td>0.011155</td>\n",
       "      <td>0.007913</td>\n",
       "      <td>0.007850</td>\n",
       "      <td>0.444444</td>\n",
       "      <td>-0.017120</td>\n",
       "      <td>0.094578</td>\n",
       "      <td>0.213759</td>\n",
       "    </tr>\n",
       "    <tr>\n",
       "      <th>6</th>\n",
       "      <td>Ses01F_script02_2_F006</td>\n",
       "      <td>0</td>\n",
       "      <td>0.039659</td>\n",
       "      <td>0.067939</td>\n",
       "      <td>0.049930</td>\n",
       "      <td>0.046050</td>\n",
       "      <td>0.345018</td>\n",
       "      <td>-0.004605</td>\n",
       "      <td>3.441704</td>\n",
       "      <td>9.317455</td>\n",
       "    </tr>\n",
       "    <tr>\n",
       "      <th>7</th>\n",
       "      <td>Ses01F_script02_2_F007</td>\n",
       "      <td>2</td>\n",
       "      <td>0.014478</td>\n",
       "      <td>0.026941</td>\n",
       "      <td>0.018384</td>\n",
       "      <td>0.019687</td>\n",
       "      <td>0.422764</td>\n",
       "      <td>-0.011850</td>\n",
       "      <td>0.568261</td>\n",
       "      <td>1.928247</td>\n",
       "    </tr>\n",
       "    <tr>\n",
       "      <th>8</th>\n",
       "      <td>Ses01F_script02_2_F008</td>\n",
       "      <td>0</td>\n",
       "      <td>0.025271</td>\n",
       "      <td>0.054958</td>\n",
       "      <td>0.031571</td>\n",
       "      <td>0.044958</td>\n",
       "      <td>0.470019</td>\n",
       "      <td>-0.005120</td>\n",
       "      <td>2.529399</td>\n",
       "      <td>9.210082</td>\n",
       "    </tr>\n",
       "  </tbody>\n",
       "</table>\n",
       "</div>"
      ],
      "text/plain": [
       "                 wav_file  label  sig_mean   sig_std  rmse_mean  rmse_std  \\\n",
       "0  Ses01F_script02_2_F000      5  0.003671  0.005739   0.004434  0.003640   \n",
       "1  Ses01F_script02_2_F001      5  0.006365  0.011155   0.007913  0.007850   \n",
       "6  Ses01F_script02_2_F006      0  0.039659  0.067939   0.049930  0.046050   \n",
       "7  Ses01F_script02_2_F007      2  0.014478  0.026941   0.018384  0.019687   \n",
       "8  Ses01F_script02_2_F008      0  0.025271  0.054958   0.031571  0.044958   \n",
       "\n",
       "    silence  harmonic  auto_corr_max  auto_corr_std  \n",
       "0  0.018692 -0.008143       0.023179       0.133057  \n",
       "1  0.444444 -0.017120       0.094578       0.213759  \n",
       "6  0.345018 -0.004605       3.441704       9.317455  \n",
       "7  0.422764 -0.011850       0.568261       1.928247  \n",
       "8  0.470019 -0.005120       2.529399       9.210082  "
      ]
     },
     "execution_count": 2,
     "metadata": {},
     "output_type": "execute_result"
    }
   ],
   "source": [
    "df = pd.read_csv('data/audio_features.csv')\n",
    "df = df[df['label'].isin([0, 1, 2, 3, 4, 5, 6, 7])]\n",
    "print(df.shape)\n",
    "display(df.head())\n",
    "\n",
    "# change 7 to 2\n",
    "df['label'] = df['label'].map({0: 0, 1: 1, 2: 1, 3: 2, 4: 2, 5: 3, 6: 4, 7: 5})\n",
    "df.head()"
   ]
  },
  {
   "cell_type": "code",
   "execution_count": 3,
   "metadata": {},
   "outputs": [],
   "source": [
    "df.to_csv('data/no_sample_df.csv')\n",
    "\n",
    "# oversample fear\n",
    "fear_df = df[df['label']==3]\n",
    "for i in range(30):\n",
    "    df = df.append(fear_df)\n",
    "\n",
    "sur_df = df[df['label']==4]\n",
    "for i in range(10):\n",
    "    df = df.append(sur_df)\n",
    "    \n",
    "df.to_csv('data/modified_df.csv')"
   ]
  },
  {
   "cell_type": "code",
   "execution_count": 4,
   "metadata": {},
   "outputs": [
    {
     "data": {
      "text/html": [
       "<div>\n",
       "<style scoped>\n",
       "    .dataframe tbody tr th:only-of-type {\n",
       "        vertical-align: middle;\n",
       "    }\n",
       "\n",
       "    .dataframe tbody tr th {\n",
       "        vertical-align: top;\n",
       "    }\n",
       "\n",
       "    .dataframe thead th {\n",
       "        text-align: right;\n",
       "    }\n",
       "</style>\n",
       "<table border=\"1\" class=\"dataframe\">\n",
       "  <thead>\n",
       "    <tr style=\"text-align: right;\">\n",
       "      <th></th>\n",
       "      <th>wav_file</th>\n",
       "      <th>label</th>\n",
       "      <th>sig_mean</th>\n",
       "      <th>sig_std</th>\n",
       "      <th>rmse_mean</th>\n",
       "      <th>rmse_std</th>\n",
       "      <th>silence</th>\n",
       "      <th>harmonic</th>\n",
       "      <th>auto_corr_max</th>\n",
       "      <th>auto_corr_std</th>\n",
       "    </tr>\n",
       "  </thead>\n",
       "  <tbody>\n",
       "    <tr>\n",
       "      <th>0</th>\n",
       "      <td>Ses01F_script02_2_F000</td>\n",
       "      <td>5</td>\n",
       "      <td>0.010847</td>\n",
       "      <td>0.013290</td>\n",
       "      <td>0.010715</td>\n",
       "      <td>0.019386</td>\n",
       "      <td>0.024313</td>\n",
       "      <td>0.168625</td>\n",
       "      <td>0.000277</td>\n",
       "      <td>0.000468</td>\n",
       "    </tr>\n",
       "    <tr>\n",
       "      <th>1</th>\n",
       "      <td>Ses01F_script02_2_F001</td>\n",
       "      <td>5</td>\n",
       "      <td>0.020306</td>\n",
       "      <td>0.027702</td>\n",
       "      <td>0.020774</td>\n",
       "      <td>0.042489</td>\n",
       "      <td>0.578112</td>\n",
       "      <td>0.166868</td>\n",
       "      <td>0.001141</td>\n",
       "      <td>0.000753</td>\n",
       "    </tr>\n",
       "    <tr>\n",
       "      <th>6</th>\n",
       "      <td>Ses01F_script02_2_F006</td>\n",
       "      <td>0</td>\n",
       "      <td>0.137206</td>\n",
       "      <td>0.178822</td>\n",
       "      <td>0.142271</td>\n",
       "      <td>0.252096</td>\n",
       "      <td>0.448783</td>\n",
       "      <td>0.169317</td>\n",
       "      <td>0.041644</td>\n",
       "      <td>0.032933</td>\n",
       "    </tr>\n",
       "    <tr>\n",
       "      <th>7</th>\n",
       "      <td>Ses01F_script02_2_F007</td>\n",
       "      <td>2</td>\n",
       "      <td>0.048793</td>\n",
       "      <td>0.069713</td>\n",
       "      <td>0.051051</td>\n",
       "      <td>0.107439</td>\n",
       "      <td>0.549911</td>\n",
       "      <td>0.167899</td>\n",
       "      <td>0.006873</td>\n",
       "      <td>0.006814</td>\n",
       "    </tr>\n",
       "    <tr>\n",
       "      <th>8</th>\n",
       "      <td>Ses01F_script02_2_F008</td>\n",
       "      <td>0</td>\n",
       "      <td>0.086686</td>\n",
       "      <td>0.144276</td>\n",
       "      <td>0.089184</td>\n",
       "      <td>0.246100</td>\n",
       "      <td>0.611379</td>\n",
       "      <td>0.169216</td>\n",
       "      <td>0.030604</td>\n",
       "      <td>0.032553</td>\n",
       "    </tr>\n",
       "  </tbody>\n",
       "</table>\n",
       "</div>"
      ],
      "text/plain": [
       "                 wav_file  label  sig_mean   sig_std  rmse_mean  rmse_std  \\\n",
       "0  Ses01F_script02_2_F000      5  0.010847  0.013290   0.010715  0.019386   \n",
       "1  Ses01F_script02_2_F001      5  0.020306  0.027702   0.020774  0.042489   \n",
       "6  Ses01F_script02_2_F006      0  0.137206  0.178822   0.142271  0.252096   \n",
       "7  Ses01F_script02_2_F007      2  0.048793  0.069713   0.051051  0.107439   \n",
       "8  Ses01F_script02_2_F008      0  0.086686  0.144276   0.089184  0.246100   \n",
       "\n",
       "    silence  harmonic  auto_corr_max  auto_corr_std  \n",
       "0  0.024313  0.168625       0.000277       0.000468  \n",
       "1  0.578112  0.166868       0.001141       0.000753  \n",
       "6  0.448783  0.169317       0.041644       0.032933  \n",
       "7  0.549911  0.167899       0.006873       0.006814  \n",
       "8  0.611379  0.169216       0.030604       0.032553  "
      ]
     },
     "execution_count": 4,
     "metadata": {},
     "output_type": "execute_result"
    }
   ],
   "source": [
    "emotion_dict = {'ang': 0,\n",
    "                'hap': 1,\n",
    "                'sad': 2,\n",
    "                'fea': 3,\n",
    "                'sur': 4,\n",
    "                'neu': 5}\n",
    "\n",
    "# emotion_dict = {'ang': 0,\n",
    "#                 'hap': 1,\n",
    "#                 'exc': 2,\n",
    "#                 'sad': 3,\n",
    "#                 'fru': 4,\n",
    "#                 'fea': 5,\n",
    "#                 'sur': 6,\n",
    "#                 'neu': 7,\n",
    "#                 'xxx': 8,\n",
    "#                 'oth': 8}\n",
    "scalar = MinMaxScaler()\n",
    "df[df.columns[2:]] = scalar.fit_transform(df[df.columns[2:]])\n",
    "df.head()"
   ]
  },
  {
   "cell_type": "code",
   "execution_count": 5,
   "metadata": {},
   "outputs": [
    {
     "name": "stdout",
     "output_type": "stream",
     "text": [
      "(7837, 9)\n"
     ]
    }
   ],
   "source": [
    "x_train, x_test = train_test_split(df[df.columns[1:]], test_size=0.20)\n",
    "\n",
    "print(x_train.shape)\n",
    "y_train = x_train['label']\n",
    "y_test = x_test['label']"
   ]
  },
  {
   "cell_type": "code",
   "execution_count": 6,
   "metadata": {},
   "outputs": [
    {
     "name": "stdout",
     "output_type": "stream",
     "text": [
      "(7837, 9) (1960, 9)\n",
      "{0: 1103, 1: 1636, 2: 2933, 3: 1240, 4: 1177, 5: 1708}\n"
     ]
    }
   ],
   "source": [
    "print(x_train.shape, x_test.shape)\n",
    "cl_weight = dict(pd.Series(df['label']).value_counts(normalize=True))\n",
    "print(dict(pd.Series(df['label']).value_counts()))\n",
    "\n",
    "del x_train['label']\n",
    "del x_test['label']"
   ]
  },
  {
   "cell_type": "code",
   "execution_count": 7,
   "metadata": {},
   "outputs": [],
   "source": [
    "def plot_confusion_matrix(cm, classes,\n",
    "                          normalize=False,\n",
    "                          title='Confusion matrix',\n",
    "                          cmap=plt.cm.Blues):\n",
    "    \"\"\"\n",
    "    This function prints and plots the confusion matrix.\n",
    "    Normalization can be applied by setting `normalize=True`.\n",
    "    \"\"\"\n",
    "    # plt.figure(figsize=(8,8))\n",
    "    plt.imshow(cm, interpolation='nearest', cmap=cmap)\n",
    "    plt.title(title)\n",
    "    plt.colorbar()\n",
    "    tick_marks = np.arange(len(classes))\n",
    "    plt.xticks(tick_marks, classes, rotation=45)\n",
    "    plt.yticks(tick_marks, classes)\n",
    "\n",
    "    if normalize:\n",
    "        cm = cm.astype('float') / cm.sum(axis=1)[:, np.newaxis]\n",
    "        print(\"Normalized confusion matrix\")\n",
    "    else:\n",
    "        print('Confusion matrix, without normalization')\n",
    "\n",
    "    print(cm)\n",
    "\n",
    "    thresh = cm.max() / 2.\n",
    "    for i, j in itertools.product(range(cm.shape[0]), range(cm.shape[1])):\n",
    "        plt.text(j, i, cm[i, j],\n",
    "                 horizontalalignment=\"center\",\n",
    "                 color=\"white\" if cm[i, j] > thresh else \"black\")\n",
    "\n",
    "    plt.tight_layout()\n",
    "    plt.ylabel('True label')\n",
    "    plt.xlabel('Predicted label')\n",
    "    \n",
    "def one_hot_encoder(true_labels, num_records, num_classes):\n",
    "    temp = np.array(true_labels[:num_records])\n",
    "    true_labels = np.zeros((num_records, num_classes))\n",
    "    true_labels[np.arange(num_records), temp] = 1\n",
    "    return true_labels\n",
    "\n",
    "def display_results(y_test, pred_probs, cm=True):\n",
    "    pred = np.argmax(pred_probs, axis=-1)\n",
    "    one_hot_true = one_hot_encoder(y_test, len(pred), len(emotion_dict))\n",
    "    print('Test Set Accuracy =  {0:.3f}'.format(accuracy_score(y_test, pred)))\n",
    "    print('Test Set F-score =  {0:.3f}'.format(f1_score(y_test, pred, average='macro')))\n",
    "    print('Test Set Precision =  {0:.3f}'.format(precision_score(y_test, pred, average='macro')))\n",
    "    print('Test Set Recall =  {0:.3f}'.format(recall_score(y_test, pred, average='macro')))\n",
    "    if cm:\n",
    "        plot_confusion_matrix(confusion_matrix(y_test, pred), classes=emotion_dict.keys())"
   ]
  },
  {
   "cell_type": "code",
   "execution_count": 8,
   "metadata": {},
   "outputs": [
    {
     "name": "stdout",
     "output_type": "stream",
     "text": [
      "Test Set Accuracy =  0.565\n",
      "Test Set F-score =  0.568\n",
      "Test Set Precision =  0.580\n",
      "Test Set Recall =  0.578\n",
      "Confusion matrix, without normalization\n",
      "[[ 88  38  95   2   6  12]\n",
      " [ 49  55 168   0   6  47]\n",
      " [ 33  60 406   4  13  74]\n",
      " [  0   0   0 252   0   0]\n",
      " [  0   0   0   0 226   0]\n",
      " [ 16  25 198   2   5  80]]\n"
     ]
    },
    {
     "data": {
      "image/png": "[encoded data removed]",
      "text/plain": [
       "<Figure size 432x288 with 2 Axes>"
      ]
     },
     "metadata": {
      "needs_background": "light"
     },
     "output_type": "display_data"
    }
   ],
   "source": [
    "rf_classifier = RandomForestClassifier(n_estimators=1200, min_samples_split=25)\n",
    "rf_classifier.fit(x_train, y_train)\n",
    "\n",
    "# Predict\n",
    "pred_probs = rf_classifier.predict_proba(x_test)\n",
    "\n",
    "# Results\n",
    "display_results(y_test, pred_probs)\n",
    "\n",
    "with open('pred_probas/rf_classifier.pkl', 'wb') as f:\n",
    "    pickle.dump(pred_probs, f)"
   ]
  },
  {
   "cell_type": "code",
   "execution_count": 9,
   "metadata": {},
   "outputs": [
    {
     "name": "stdout",
     "output_type": "stream",
     "text": [
      "Test Set Accuracy =  0.561\n",
      "Test Set F-score =  0.567\n",
      "Test Set Precision =  0.575\n",
      "Test Set Recall =  0.576\n",
      "Confusion matrix, without normalization\n",
      "[[ 86  42  87   2   7  17]\n",
      " [ 49  63 160   0   3  50]\n",
      " [ 46  53 395   7   6  83]\n",
      " [  0   0   0 252   0   0]\n",
      " [  0   0   0   0 226   0]\n",
      " [ 22  27 194   1   5  77]]\n"
     ]
    },
    {
     "data": {
      "image/png": "[encoded data removed]",
      "text/plain": [
       "<Figure size 432x288 with 2 Axes>"
      ]
     },
     "metadata": {
      "needs_background": "light"
     },
     "output_type": "display_data"
    }
   ],
   "source": [
    "xgb_classifier = xgb.XGBClassifier(max_depth=7, learning_rate=0.008, objective='multi:softprob', \n",
    "                                   n_estimators=1200, sub_sample=0.8, num_class=len(emotion_dict),\n",
    "                                   booster='gbtree', n_jobs=4)\n",
    "xgb_classifier.fit(x_train, y_train)\n",
    "\n",
    "# Predict\n",
    "pred_probs = xgb_classifier.predict_proba(x_test)\n",
    "\n",
    "# Results\n",
    "display_results(y_test, pred_probs)\n",
    "\n",
    "with open('pred_probas/xgb_classifier.pkl', 'wb') as f:\n",
    "    pickle.dump(pred_probs, f)"
   ]
  },
  {
   "cell_type": "code",
   "execution_count": 42,
   "metadata": {},
   "outputs": [
    {
     "name": "stdout",
     "output_type": "stream",
     "text": [
      "Test Set Accuracy =  0.410\n",
      "Test Set F-score =  0.361\n",
      "Test Set Precision =  0.433\n",
      "Test Set Recall =  0.358\n",
      "Confusion matrix, without normalization\n",
      "[[ 72  32 114  11   9   3]\n",
      " [ 32  43 214  11   3  22]\n",
      " [ 26  30 439  36  14  45]\n",
      " [  0   0  80 151   8  13]\n",
      " [  9  30 105  20  52  10]\n",
      " [  9  15 215  27  13  47]]\n"
     ]
    },
    {
     "data": {
      "image/png": "[encoded data removed]",
      "text/plain": [
       "<Figure size 432x288 with 2 Axes>"
      ]
     },
     "metadata": {
      "needs_background": "light"
     },
     "output_type": "display_data"
    }
   ],
   "source": [
    "mlp_classifier = MLPClassifier(hidden_layer_sizes=(650, ), activation='relu', solver='adam', alpha=0.0001,\n",
    "                               batch_size='auto', learning_rate='adaptive', learning_rate_init=0.01,\n",
    "                               power_t=0.5, max_iter=1000, shuffle=True, random_state=None, tol=0.0001,\n",
    "                               verbose=False, warm_start=True, momentum=0.8, nesterovs_momentum=True,\n",
    "                               early_stopping=False, validation_fraction=0.1, beta_1=0.9, beta_2=0.999,\n",
    "                               epsilon=1e-08)\n",
    "\n",
    "mlp_classifier.fit(x_train, y_train)\n",
    "\n",
    "# Predict\n",
    "pred_probs = mlp_classifier.predict_proba(x_test)\n",
    "\n",
    "# Results\n",
    "display_results(y_test, pred_probs)\n",
    "\n",
    "with open('pred_probas/mlp_classifier.pkl', 'wb') as f:\n",
    "    pickle.dump(pred_probs, f)"
   ]
  },
  {
   "cell_type": "code",
   "execution_count": 29,
   "metadata": {},
   "outputs": [],
   "source": [
    "# Discard SVM and KNN as they weren't performing well\n",
    "# svm_classifier = SVC(C=5000.0, probability=True, kernel='rbf', gamma='scale')\n",
    "# svm_classifier.fit(x_train, y_train)\n",
    "\n",
    "# # Predict\n",
    "# pred_probs = svm_classifier.predict_proba(x_test)\n",
    "\n",
    "# # Results\n",
    "# display_results(y_test, pred_probs)\n",
    "\n",
    "# with open('pred_probas/svm_classifier.pkl', 'wb') as f:\n",
    "#     pickle.dump(pred_probs, f)"
   ]
  },
  {
   "cell_type": "code",
   "execution_count": 43,
   "metadata": {
    "scrolled": true
   },
   "outputs": [
    {
     "data": {
      "image/png": "[encoded data removed]",
      "text/plain": [
       "<Figure size 576x576 with 1 Axes>"
      ]
     },
     "metadata": {
      "needs_background": "light"
     },
     "output_type": "display_data"
    }
   ],
   "source": [
    "ax = xgb.plot_importance(xgb_classifier, max_num_features=10, height=0.5, show_values=False)\n",
    "fig = ax.figure\n",
    "fig.set_size_inches(8, 8)"
   ]
  },
  {
   "cell_type": "code",
   "execution_count": 44,
   "metadata": {},
   "outputs": [
    {
     "data": {
      "text/plain": [
       "array([0.10380024, 0.1110946 , 0.149801  , 0.14968506, 0.11192109,\n",
       "       0.09556067, 0.16592902, 0.11220833], dtype=float32)"
      ]
     },
     "execution_count": 44,
     "metadata": {},
     "output_type": "execute_result"
    }
   ],
   "source": [
    "contribution_scores = xgb_classifier.feature_importances_\n",
    "contribution_scores"
   ]
  },
  {
   "cell_type": "code",
   "execution_count": 45,
   "metadata": {},
   "outputs": [
    {
     "name": "stdout",
     "output_type": "stream",
     "text": [
      "Stats for top 3 features:\n",
      "Test Set Accuracy =  0.533\n",
      "Test Set F-score =  0.533\n",
      "Test Set Precision =  0.538\n",
      "Test Set Recall =  0.549\n",
      "Stats for top 5 features:\n",
      "Test Set Accuracy =  0.547\n",
      "Test Set F-score =  0.558\n",
      "Test Set Precision =  0.564\n",
      "Test Set Recall =  0.567\n",
      "Stats for top 6 features:\n",
      "Test Set Accuracy =  0.549\n",
      "Test Set F-score =  0.556\n",
      "Test Set Precision =  0.564\n",
      "Test Set Recall =  0.566\n",
      "Stats for top 7 features:\n",
      "Test Set Accuracy =  0.543\n",
      "Test Set F-score =  0.551\n",
      "Test Set Precision =  0.556\n",
      "Test Set Recall =  0.560\n",
      "Stats for top 8 features:\n",
      "Test Set Accuracy =  0.561\n",
      "Test Set F-score =  0.567\n",
      "Test Set Precision =  0.575\n",
      "Test Set Recall =  0.576\n"
     ]
    }
   ],
   "source": [
    "top_n = [3, 5, 6, 7, 8]  # number of features\n",
    "for n in top_n:\n",
    "    threshold = np.argsort(contribution_scores)[::-1][:n][-1]\n",
    "    print('Stats for top {} features:'.format(n))\n",
    "    # Select features using threshold\n",
    "    selection = SelectFromModel(xgb_classifier, threshold=contribution_scores[threshold], prefit=True)\n",
    "    select_x_train = selection.transform(x_train)\n",
    "    select_x_test = selection.transform(x_test)\n",
    "    \n",
    "    # Train\n",
    "    select_xgb_classifier = xgb.XGBClassifier(max_depth=7, learning_rate=0.008, objective='multi:softprob', \n",
    "                                              n_estimators=1200, sub_sample = 0.8, num_class = len(emotion_dict),\n",
    "                                              booster='gbtree', n_jobs=4)\n",
    "    select_xgb_classifier.fit(select_x_train, y_train)\n",
    "\n",
    "    # Predict\n",
    "    pred_probs = select_xgb_classifier.predict_proba(select_x_test)\n",
    "\n",
    "    # Results\n",
    "    display_results(y_test, pred_probs, cm = False)"
   ]
  },
  {
   "cell_type": "code",
   "execution_count": 47,
   "metadata": {},
   "outputs": [
    {
     "name": "stdout",
     "output_type": "stream",
     "text": [
      "Test Set Accuracy =  0.566\n",
      "Test Set F-score =  0.569\n",
      "Test Set Precision =  0.582\n",
      "Test Set Recall =  0.578\n",
      "Confusion matrix, without normalization\n",
      "[[ 89  37  96   3   4  12]\n",
      " [ 53  54 168   0   3  47]\n",
      " [ 36  55 413   6   7  73]\n",
      " [  0   0   0 252   0   0]\n",
      " [  0   0   0   0 226   0]\n",
      " [ 17  27 200   1   5  76]]\n"
     ]
    },
    {
     "data": {
      "image/png": "[encoded data removed]",
      "text/plain": [
       "<Figure size 432x288 with 2 Axes>"
      ]
     },
     "metadata": {
      "needs_background": "light"
     },
     "output_type": "display_data"
    }
   ],
   "source": [
    "# Load predicted probabilities\n",
    "with open('pred_probas/xgb_classifier.pkl', 'rb') as f:\n",
    "    xgb_pred_probs = pickle.load(f)\n",
    "    \n",
    "with open('pred_probas/svm_classifier.pkl', 'rb') as f:\n",
    "    svm_pred_probs = pickle.load(f)\n",
    "    \n",
    "with open('pred_probas/rf_classifier.pkl', 'rb') as f:\n",
    "    rf_pred_probs = pickle.load(f)\n",
    "    \n",
    "with open('pred_probas/mlp_classifier.pkl', 'rb') as f:\n",
    "    mlp_pred_probs = pickle.load(f)\n",
    "\n",
    "n_samples = np.min([len(xgb_pred_probs), len(svm_pred_probs), len(rf_pred_probs), len(mlp_pred_probs)])\n",
    "\n",
    "# Average of the predicted probabilites\n",
    "ensemble_pred_probs = (xgb_pred_probs[:n_samples] + rf_pred_probs[:n_samples])/2.0\n",
    "# ensemble_pred_probs = (xgb_pred_probs[:n_samples] + mlp_pred_probs[:n_samples] + rf_pred_probs[:n_samples])/3.0\n",
    "\n",
    "\n",
    "# Show metrics\n",
    "display_results(y_test[:n_samples], ensemble_pred_probs)"
   ]
  }
 ],
 "metadata": {
  "kernelspec": {
   "display_name": "Python 3",
   "language": "python",
   "name": "python3"
  },
  "language_info": {
   "codemirror_mode": {
    "name": "ipython",
    "version": 3
   },
   "file_extension": ".py",
   "mimetype": "text/x-python",
   "name": "python",
   "nbconvert_exporter": "python",
   "pygments_lexer": "ipython3",
   "version": "3.5.2"
  }
 },
 "nbformat": 4,
 "nbformat_minor": 2
}
